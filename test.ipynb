{
 "cells": [
  {
   "cell_type": "code",
   "execution_count": 2,
   "metadata": {},
   "outputs": [],
   "source": [
    "import pickle, random\n",
    "\n",
    "def read_data(path):\n",
    "    data = []\n",
    "    with open(path, 'rb') as f:\n",
    "        while True:\n",
    "            try:\n",
    "                aa = pickle.load(f)\n",
    "                data.extend(aa)\n",
    "            except EOFError:\n",
    "                break\n",
    "    return data"
   ]
  },
  {
   "cell_type": "code",
   "execution_count": 3,
   "metadata": {},
   "outputs": [
    {
     "data": {
      "text/plain": [
       "83"
      ]
     },
     "execution_count": 3,
     "metadata": {},
     "output_type": "execute_result"
    }
   ],
   "source": [
    "len(read_data('./data/val_mol_input.pkl'))"
   ]
  },
  {
   "cell_type": "code",
   "execution_count": 5,
   "metadata": {},
   "outputs": [
    {
     "data": {
      "text/plain": [
       "[49,\n",
       " 71,\n",
       " 16,\n",
       " 32,\n",
       " 30,\n",
       " 10,\n",
       " 34,\n",
       " 75,\n",
       " 41,\n",
       " 44,\n",
       " 53,\n",
       " 72,\n",
       " 40,\n",
       " 15,\n",
       " 35,\n",
       " 33,\n",
       " 52,\n",
       " 80,\n",
       " 65,\n",
       " 46,\n",
       " 64,\n",
       " 21,\n",
       " 5,\n",
       " 12,\n",
       " 77,\n",
       " 23,\n",
       " 31,\n",
       " 36,\n",
       " 6,\n",
       " 9]"
      ]
     },
     "execution_count": 5,
     "metadata": {},
     "output_type": "execute_result"
    }
   ],
   "source": [
    "idx = random.sample(range( 0, 82 ), 30)\n",
    "idx"
   ]
  },
  {
   "cell_type": "code",
   "execution_count": 10,
   "metadata": {},
   "outputs": [],
   "source": [
    "a = read_data('./data/val_protein_represent.pkl')\n",
    "asave = [a[i] for i in idx]\n",
    "with open('./data/val_protein_represent_new.pkl', 'wb') as f:\n",
    "    pickle.dump(asave, f)"
   ]
  }
 ],
 "metadata": {
  "kernelspec": {
   "display_name": "moltoken",
   "language": "python",
   "name": "python3"
  },
  "language_info": {
   "codemirror_mode": {
    "name": "ipython",
    "version": 3
   },
   "file_extension": ".py",
   "mimetype": "text/x-python",
   "name": "python",
   "nbconvert_exporter": "python",
   "pygments_lexer": "ipython3",
   "version": "3.8.3"
  }
 },
 "nbformat": 4,
 "nbformat_minor": 2
}
